{
 "cells": [
  {
   "cell_type": "markdown",
   "id": "d31a867e",
   "metadata": {},
   "source": [
    "# Third: Evaluate Data Quality Issues in the Data Provided\n",
    "The purpose of this script is to uncover potential data issues related to missing values, incorrect data formats, inconsistencies, out-of-range values, and logical errors. The script performs several checks on the data and provides insights into where and how data quality issues might be impacting analysis."
   ]
  },
  {
   "cell_type": "markdown",
   "id": "d3cba770",
   "metadata": {},
   "source": [
    "## Import Libraries"
   ]
  },
  {
   "cell_type": "code",
   "execution_count": 2,
   "id": "a605f5a3",
   "metadata": {},
   "outputs": [],
   "source": [
    "import pandas as pd\n",
    "import json"
   ]
  },
  {
   "cell_type": "markdown",
   "id": "d2373521",
   "metadata": {},
   "source": [
    "## Load the JSON data"
   ]
  },
  {
   "cell_type": "code",
   "execution_count": 3,
   "id": "afa1eb53",
   "metadata": {},
   "outputs": [
    {
     "name": "stdout",
     "output_type": "stream",
     "text": [
      "JSON Loaded Successfully from users.json\n",
      "JSON Loaded Successfully from brands.json\n",
      "JSON Loaded Successfully from receipts.json\n"
     ]
    }
   ],
   "source": [
    "# Function to load a JSON file into a list\n",
    "def load_json_file(file_path):\n",
    "    \n",
    "    try:\n",
    "        with open(file_path, \"r\", encoding=\"utf-8\") as file:\n",
    "            data = [json.loads(line) for line in file]\n",
    "        print(f\"JSON Loaded Successfully from {file_path}\")\n",
    "        return data\n",
    "    except json.JSONDecodeError as e:\n",
    "        print(f\"Error loading JSON from {file_path}: {e}\")\n",
    "        return None\n",
    "    except FileNotFoundError:\n",
    "        print(f\"File not found: {file_path}\")\n",
    "        return None\n",
    "    except Exception as e:\n",
    "        print(f\"An unexpected error occurred: {e}\")\n",
    "        return None\n",
    "\n",
    "users_data = load_json_file(\"users.json\")\n",
    "brands_data = load_json_file(\"brands.json\")\n",
    "receipts_data = load_json_file(\"receipts.json\")"
   ]
  },
  {
   "cell_type": "markdown",
   "id": "65f5b605",
   "metadata": {},
   "source": [
    "## Print the preview of JSON data"
   ]
  },
  {
   "cell_type": "code",
   "execution_count": 25,
   "id": "348ff3f6",
   "metadata": {},
   "outputs": [
    {
     "name": "stdout",
     "output_type": "stream",
     "text": [
      "[{'_id': {'$oid': '5ff1e194b6a9d73a3a9f1052'}, 'active': True, 'createdDate': {'$date': 1609687444800}, 'lastLogin': {'$date': 1609687537858}, 'role': 'consumer', 'signUpSource': 'Email', 'state': 'WI'}, {'_id': {'$oid': '5ff1e194b6a9d73a3a9f1052'}, 'active': True, 'createdDate': {'$date': 1609687444800}, 'lastLogin': {'$date': 1609687537858}, 'role': 'consumer', 'signUpSource': 'Email', 'state': 'WI'}, {'_id': {'$oid': '5ff1e194b6a9d73a3a9f1052'}, 'active': True, 'createdDate': {'$date': 1609687444800}, 'lastLogin': {'$date': 1609687537858}, 'role': 'consumer', 'signUpSource': 'Email', 'state': 'WI'}, {'_id': {'$oid': '5ff1e1eacfcf6c399c274ae6'}, 'active': True, 'createdDate': {'$date': 1609687530554}, 'lastLogin': {'$date': 1609687530597}, 'role': 'consumer', 'signUpSource': 'Email', 'state': 'WI'}, {'_id': {'$oid': '5ff1e194b6a9d73a3a9f1052'}, 'active': True, 'createdDate': {'$date': 1609687444800}, 'lastLogin': {'$date': 1609687537858}, 'role': 'consumer', 'signUpSource': 'Email', 'state': 'WI'}]\n"
     ]
    }
   ],
   "source": [
    "print(users_data[:5])  # Prints list of JSON objects"
   ]
  },
  {
   "cell_type": "code",
   "execution_count": 26,
   "id": "214ca683",
   "metadata": {},
   "outputs": [
    {
     "name": "stdout",
     "output_type": "stream",
     "text": [
      "[{'_id': {'$oid': '601ac115be37ce2ead437551'}, 'barcode': '511111019862', 'category': 'Baking', 'categoryCode': 'BAKING', 'cpg': {'$id': {'$oid': '601ac114be37ce2ead437550'}, '$ref': 'Cogs'}, 'name': 'test brand @1612366101024', 'topBrand': False}, {'_id': {'$oid': '601c5460be37ce2ead43755f'}, 'barcode': '511111519928', 'brandCode': 'STARBUCKS', 'category': 'Beverages', 'categoryCode': 'BEVERAGES', 'cpg': {'$id': {'$oid': '5332f5fbe4b03c9a25efd0ba'}, '$ref': 'Cogs'}, 'name': 'Starbucks', 'topBrand': False}, {'_id': {'$oid': '601ac142be37ce2ead43755d'}, 'barcode': '511111819905', 'brandCode': 'TEST BRANDCODE @1612366146176', 'category': 'Baking', 'categoryCode': 'BAKING', 'cpg': {'$id': {'$oid': '601ac142be37ce2ead437559'}, '$ref': 'Cogs'}, 'name': 'test brand @1612366146176', 'topBrand': False}, {'_id': {'$oid': '601ac142be37ce2ead43755a'}, 'barcode': '511111519874', 'brandCode': 'TEST BRANDCODE @1612366146051', 'category': 'Baking', 'categoryCode': 'BAKING', 'cpg': {'$id': {'$oid': '601ac142be37ce2ead437559'}, '$ref': 'Cogs'}, 'name': 'test brand @1612366146051', 'topBrand': False}, {'_id': {'$oid': '601ac142be37ce2ead43755e'}, 'barcode': '511111319917', 'brandCode': 'TEST BRANDCODE @1612366146827', 'category': 'Candy & Sweets', 'categoryCode': 'CANDY_AND_SWEETS', 'cpg': {'$id': {'$oid': '5332fa12e4b03c9a25efd1e7'}, '$ref': 'Cogs'}, 'name': 'test brand @1612366146827', 'topBrand': False}]\n"
     ]
    }
   ],
   "source": [
    "print(brands_data[:5])  # Prints list of JSON objects"
   ]
  },
  {
   "cell_type": "code",
   "execution_count": 27,
   "id": "114c23ec",
   "metadata": {},
   "outputs": [
    {
     "name": "stdout",
     "output_type": "stream",
     "text": [
      "[{'_id': {'$oid': '5ff1e1eb0a720f0523000575'}, 'bonusPointsEarned': 500, 'bonusPointsEarnedReason': 'Receipt number 2 completed, bonus point schedule DEFAULT (5cefdcacf3693e0b50e83a36)', 'createDate': {'$date': 1609687531000}, 'dateScanned': {'$date': 1609687531000}, 'finishedDate': {'$date': 1609687531000}, 'modifyDate': {'$date': 1609687536000}, 'pointsAwardedDate': {'$date': 1609687531000}, 'pointsEarned': '500.0', 'purchaseDate': {'$date': 1609632000000}, 'purchasedItemCount': 5, 'rewardsReceiptItemList': [{'barcode': '4011', 'description': 'ITEM NOT FOUND', 'finalPrice': '26.00', 'itemPrice': '26.00', 'needsFetchReview': False, 'partnerItemId': '1', 'preventTargetGapPoints': True, 'quantityPurchased': 5, 'userFlaggedBarcode': '4011', 'userFlaggedNewItem': True, 'userFlaggedPrice': '26.00', 'userFlaggedQuantity': 5}], 'rewardsReceiptStatus': 'FINISHED', 'totalSpent': '26.00', 'userId': '5ff1e1eacfcf6c399c274ae6'}, {'_id': {'$oid': '5ff1e1bb0a720f052300056b'}, 'bonusPointsEarned': 150, 'bonusPointsEarnedReason': 'Receipt number 5 completed, bonus point schedule DEFAULT (5cefdcacf3693e0b50e83a36)', 'createDate': {'$date': 1609687483000}, 'dateScanned': {'$date': 1609687483000}, 'finishedDate': {'$date': 1609687483000}, 'modifyDate': {'$date': 1609687488000}, 'pointsAwardedDate': {'$date': 1609687483000}, 'pointsEarned': '150.0', 'purchaseDate': {'$date': 1609601083000}, 'purchasedItemCount': 2, 'rewardsReceiptItemList': [{'barcode': '4011', 'description': 'ITEM NOT FOUND', 'finalPrice': '1', 'itemPrice': '1', 'partnerItemId': '1', 'quantityPurchased': 1}, {'barcode': '028400642255', 'description': 'DORITOS TORTILLA CHIP SPICY SWEET CHILI REDUCED FAT BAG 1 OZ', 'finalPrice': '10.00', 'itemPrice': '10.00', 'needsFetchReview': True, 'needsFetchReviewReason': 'USER_FLAGGED', 'partnerItemId': '2', 'pointsNotAwardedReason': 'Action not allowed for user and CPG', 'pointsPayerId': '5332f5fbe4b03c9a25efd0ba', 'preventTargetGapPoints': True, 'quantityPurchased': 1, 'rewardsGroup': 'DORITOS SPICY SWEET CHILI SINGLE SERVE', 'rewardsProductPartnerId': '5332f5fbe4b03c9a25efd0ba', 'userFlaggedBarcode': '028400642255', 'userFlaggedDescription': 'DORITOS TORTILLA CHIP SPICY SWEET CHILI REDUCED FAT BAG 1 OZ', 'userFlaggedNewItem': True, 'userFlaggedPrice': '10.00', 'userFlaggedQuantity': 1}], 'rewardsReceiptStatus': 'FINISHED', 'totalSpent': '11.00', 'userId': '5ff1e194b6a9d73a3a9f1052'}]\n"
     ]
    }
   ],
   "source": [
    "print(receipts_data[:2])  # Prints list of JSON objects"
   ]
  },
  {
   "cell_type": "markdown",
   "id": "6d1af6d1",
   "metadata": {},
   "source": [
    "## Normalize the JSON file and Print preview"
   ]
  },
  {
   "cell_type": "code",
   "execution_count": 7,
   "id": "aa603d24",
   "metadata": {},
   "outputs": [],
   "source": [
    "# Load JSON files properly\n",
    "def load_json_file(filename):\n",
    "    with open(filename, \"r\", encoding=\"utf-8\") as file:\n",
    "        data = [json.loads(line) for line in file]  # Load each line as JSON\n",
    "    return pd.json_normalize(data)  # Flatten nested structures\n",
    "\n",
    "# Load and normalize data\n",
    "users_df = load_json_file(\"users.json\")\n",
    "brands_df = load_json_file(\"brands.json\")\n",
    "receipts_df = load_json_file(\"receipts.json\")\n",
    "\n",
    "# Convert unhashable types (lists/dicts) to strings\n",
    "def make_hashable(df):\n",
    "    return df.applymap(lambda x: str(x) if isinstance(x, (list, dict)) else x)\n",
    "\n",
    "users_df = make_hashable(users_df)\n",
    "brands_df = make_hashable(brands_df)\n",
    "receipts_df = make_hashable(receipts_df)"
   ]
  },
  {
   "cell_type": "code",
   "execution_count": 8,
   "id": "88979052",
   "metadata": {},
   "outputs": [
    {
     "name": "stdout",
     "output_type": "stream",
     "text": [
      "   active      role signUpSource state                  _id.$oid  \\\n",
      "0    True  consumer        Email    WI  5ff1e194b6a9d73a3a9f1052   \n",
      "1    True  consumer        Email    WI  5ff1e194b6a9d73a3a9f1052   \n",
      "2    True  consumer        Email    WI  5ff1e194b6a9d73a3a9f1052   \n",
      "3    True  consumer        Email    WI  5ff1e1eacfcf6c399c274ae6   \n",
      "4    True  consumer        Email    WI  5ff1e194b6a9d73a3a9f1052   \n",
      "\n",
      "   createdDate.$date  lastLogin.$date  \n",
      "0      1609687444800     1.609688e+12  \n",
      "1      1609687444800     1.609688e+12  \n",
      "2      1609687444800     1.609688e+12  \n",
      "3      1609687530554     1.609688e+12  \n",
      "4      1609687444800     1.609688e+12  \n"
     ]
    }
   ],
   "source": [
    "print(users_df.head())"
   ]
  },
  {
   "cell_type": "code",
   "execution_count": 9,
   "id": "ddbb8545",
   "metadata": {},
   "outputs": [
    {
     "name": "stdout",
     "output_type": "stream",
     "text": [
      "        barcode        category      categoryCode                       name  \\\n",
      "0  511111019862          Baking            BAKING  test brand @1612366101024   \n",
      "1  511111519928       Beverages         BEVERAGES                  Starbucks   \n",
      "2  511111819905          Baking            BAKING  test brand @1612366146176   \n",
      "3  511111519874          Baking            BAKING  test brand @1612366146051   \n",
      "4  511111319917  Candy & Sweets  CANDY_AND_SWEETS  test brand @1612366146827   \n",
      "\n",
      "  topBrand                  _id.$oid              cpg.$id.$oid cpg.$ref  \\\n",
      "0    False  601ac115be37ce2ead437551  601ac114be37ce2ead437550     Cogs   \n",
      "1    False  601c5460be37ce2ead43755f  5332f5fbe4b03c9a25efd0ba     Cogs   \n",
      "2    False  601ac142be37ce2ead43755d  601ac142be37ce2ead437559     Cogs   \n",
      "3    False  601ac142be37ce2ead43755a  601ac142be37ce2ead437559     Cogs   \n",
      "4    False  601ac142be37ce2ead43755e  5332fa12e4b03c9a25efd1e7     Cogs   \n",
      "\n",
      "                       brandCode  \n",
      "0                            NaN  \n",
      "1                      STARBUCKS  \n",
      "2  TEST BRANDCODE @1612366146176  \n",
      "3  TEST BRANDCODE @1612366146051  \n",
      "4  TEST BRANDCODE @1612366146827  \n"
     ]
    }
   ],
   "source": [
    "print(brands_df.head())"
   ]
  },
  {
   "cell_type": "code",
   "execution_count": 10,
   "id": "80d10a3e",
   "metadata": {},
   "outputs": [
    {
     "name": "stdout",
     "output_type": "stream",
     "text": [
      "   bonusPointsEarned                            bonusPointsEarnedReason  \\\n",
      "0              500.0  Receipt number 2 completed, bonus point schedu...   \n",
      "1              150.0  Receipt number 5 completed, bonus point schedu...   \n",
      "2                5.0                         All-receipts receipt bonus   \n",
      "3                5.0                         All-receipts receipt bonus   \n",
      "4                5.0                         All-receipts receipt bonus   \n",
      "\n",
      "  pointsEarned  purchasedItemCount  \\\n",
      "0        500.0                 5.0   \n",
      "1        150.0                 2.0   \n",
      "2            5                 1.0   \n",
      "3          5.0                 4.0   \n",
      "4          5.0                 2.0   \n",
      "\n",
      "                              rewardsReceiptItemList rewardsReceiptStatus  \\\n",
      "0  [{'barcode': '4011', 'description': 'ITEM NOT ...             FINISHED   \n",
      "1  [{'barcode': '4011', 'description': 'ITEM NOT ...             FINISHED   \n",
      "2  [{'needsFetchReview': False, 'partnerItemId': ...             REJECTED   \n",
      "3  [{'barcode': '4011', 'description': 'ITEM NOT ...             FINISHED   \n",
      "4  [{'barcode': '4011', 'description': 'ITEM NOT ...             FINISHED   \n",
      "\n",
      "  totalSpent                    userId                  _id.$oid  \\\n",
      "0      26.00  5ff1e1eacfcf6c399c274ae6  5ff1e1eb0a720f0523000575   \n",
      "1      11.00  5ff1e194b6a9d73a3a9f1052  5ff1e1bb0a720f052300056b   \n",
      "2      10.00  5ff1e1f1cfcf6c399c274b0b  5ff1e1f10a720f052300057a   \n",
      "3      28.00  5ff1e1eacfcf6c399c274ae6  5ff1e1ee0a7214ada100056f   \n",
      "4       1.00  5ff1e194b6a9d73a3a9f1052  5ff1e1d20a7214ada1000561   \n",
      "\n",
      "   createDate.$date  dateScanned.$date  finishedDate.$date  modifyDate.$date  \\\n",
      "0     1609687531000      1609687531000        1.609688e+12     1609687536000   \n",
      "1     1609687483000      1609687483000        1.609687e+12     1609687488000   \n",
      "2     1609687537000      1609687537000                 NaN     1609687542000   \n",
      "3     1609687534000      1609687534000        1.609688e+12     1609687539000   \n",
      "4     1609687506000      1609687506000        1.609688e+12     1609687511000   \n",
      "\n",
      "   pointsAwardedDate.$date  purchaseDate.$date  \n",
      "0             1.609688e+12        1.609632e+12  \n",
      "1             1.609687e+12        1.609601e+12  \n",
      "2                      NaN        1.609632e+12  \n",
      "3             1.609688e+12        1.609632e+12  \n",
      "4             1.609688e+12        1.609601e+12  \n"
     ]
    }
   ],
   "source": [
    "print(receipts_df.head())"
   ]
  },
  {
   "cell_type": "markdown",
   "id": "14ef142c",
   "metadata": {},
   "source": [
    "## Getting the info that is data types and null counts"
   ]
  },
  {
   "cell_type": "code",
   "execution_count": 22,
   "id": "b994a834",
   "metadata": {},
   "outputs": [
    {
     "name": "stdout",
     "output_type": "stream",
     "text": [
      "<class 'pandas.core.frame.DataFrame'>\n",
      "RangeIndex: 495 entries, 0 to 494\n",
      "Data columns (total 7 columns):\n",
      " #   Column             Non-Null Count  Dtype         \n",
      "---  ------             --------------  -----         \n",
      " 0   active             495 non-null    bool          \n",
      " 1   role               495 non-null    object        \n",
      " 2   signUpSource       447 non-null    object        \n",
      " 3   state              439 non-null    object        \n",
      " 4   _id.$oid           495 non-null    object        \n",
      " 5   createdDate.$date  495 non-null    datetime64[ns]\n",
      " 6   lastLogin.$date    433 non-null    float64       \n",
      "dtypes: bool(1), datetime64[ns](1), float64(1), object(4)\n",
      "memory usage: 23.8+ KB\n",
      "None\n",
      "<class 'pandas.core.frame.DataFrame'>\n",
      "RangeIndex: 1167 entries, 0 to 1166\n",
      "Data columns (total 9 columns):\n",
      " #   Column        Non-Null Count  Dtype \n",
      "---  ------        --------------  ----- \n",
      " 0   barcode       1167 non-null   object\n",
      " 1   category      1012 non-null   object\n",
      " 2   categoryCode  517 non-null    object\n",
      " 3   name          1167 non-null   object\n",
      " 4   topBrand      555 non-null    object\n",
      " 5   _id.$oid      1167 non-null   object\n",
      " 6   cpg.$id.$oid  1167 non-null   object\n",
      " 7   cpg.$ref      1167 non-null   object\n",
      " 8   brandCode     933 non-null    object\n",
      "dtypes: object(9)\n",
      "memory usage: 82.2+ KB\n",
      "None\n",
      "<class 'pandas.core.frame.DataFrame'>\n",
      "RangeIndex: 1119 entries, 0 to 1118\n",
      "Data columns (total 15 columns):\n",
      " #   Column                   Non-Null Count  Dtype         \n",
      "---  ------                   --------------  -----         \n",
      " 0   bonusPointsEarned        544 non-null    float64       \n",
      " 1   bonusPointsEarnedReason  544 non-null    object        \n",
      " 2   pointsEarned             609 non-null    object        \n",
      " 3   purchasedItemCount       635 non-null    float64       \n",
      " 4   rewardsReceiptItemList   679 non-null    object        \n",
      " 5   rewardsReceiptStatus     1119 non-null   object        \n",
      " 6   totalSpent               684 non-null    object        \n",
      " 7   userId                   1119 non-null   object        \n",
      " 8   _id.$oid                 1119 non-null   object        \n",
      " 9   createDate.$date         1119 non-null   datetime64[ns]\n",
      " 10  dateScanned.$date        1119 non-null   datetime64[ns]\n",
      " 11  finishedDate.$date       568 non-null    datetime64[ns]\n",
      " 12  modifyDate.$date         1119 non-null   int64         \n",
      " 13  pointsAwardedDate.$date  537 non-null    float64       \n",
      " 14  purchaseDate.$date       671 non-null    float64       \n",
      "dtypes: datetime64[ns](3), float64(4), int64(1), object(7)\n",
      "memory usage: 131.3+ KB\n",
      "None\n"
     ]
    }
   ],
   "source": [
    "# Get data types and null value counts\n",
    "print(users_df.info())\n",
    "print(brands_df.info())\n",
    "print(receipts_df.info())\n",
    "\n",
    "# since the dataframe is handling JSON objects most of the datatypes are displayed as 'object'"
   ]
  },
  {
   "cell_type": "code",
   "execution_count": 12,
   "id": "69ee0771",
   "metadata": {},
   "outputs": [
    {
     "name": "stdout",
     "output_type": "stream",
     "text": [
      "             barcode category categoryCode     name topBrand  \\\n",
      "count           1167     1012          517     1167      555   \n",
      "unique          1160       23           14     1156        2   \n",
      "top     511111305125   Baking       BAKING  Huggies    False   \n",
      "freq               2      369          359        2      524   \n",
      "\n",
      "                        _id.$oid              cpg.$id.$oid cpg.$ref brandCode  \n",
      "count                       1167                      1167     1167       933  \n",
      "unique                      1167                       196        2       897  \n",
      "top     601ac115be37ce2ead437551  559c2234e4b06aca36af13c6     Cogs            \n",
      "freq                           1                        98     1020        35  \n"
     ]
    }
   ],
   "source": [
    "# Compute summary statistics for numerical columns which can be useful to look for unusual values that could indicate errors\n",
    "print(brands_df.describe())"
   ]
  },
  {
   "cell_type": "markdown",
   "id": "21602904",
   "metadata": {},
   "source": [
    "## Check for missing values"
   ]
  },
  {
   "cell_type": "code",
   "execution_count": 13,
   "id": "5f09da42",
   "metadata": {},
   "outputs": [
    {
     "name": "stdout",
     "output_type": "stream",
     "text": [
      "active                0\n",
      "role                  0\n",
      "signUpSource         48\n",
      "state                56\n",
      "_id.$oid              0\n",
      "createdDate.$date     0\n",
      "lastLogin.$date      62\n",
      "dtype: int64\n"
     ]
    }
   ],
   "source": [
    "# Check for missing values\n",
    "print(users_df.isnull().sum())"
   ]
  },
  {
   "cell_type": "code",
   "execution_count": 14,
   "id": "9580aaeb",
   "metadata": {},
   "outputs": [
    {
     "name": "stdout",
     "output_type": "stream",
     "text": [
      "barcode           0\n",
      "category        155\n",
      "categoryCode    650\n",
      "name              0\n",
      "topBrand        612\n",
      "_id.$oid          0\n",
      "cpg.$id.$oid      0\n",
      "cpg.$ref          0\n",
      "brandCode       234\n",
      "dtype: int64\n"
     ]
    }
   ],
   "source": [
    "print(brands_df.isnull().sum())"
   ]
  },
  {
   "cell_type": "code",
   "execution_count": 15,
   "id": "963c6eba",
   "metadata": {},
   "outputs": [
    {
     "name": "stdout",
     "output_type": "stream",
     "text": [
      "bonusPointsEarned          575\n",
      "bonusPointsEarnedReason    575\n",
      "pointsEarned               510\n",
      "purchasedItemCount         484\n",
      "rewardsReceiptItemList     440\n",
      "rewardsReceiptStatus         0\n",
      "totalSpent                 435\n",
      "userId                       0\n",
      "_id.$oid                     0\n",
      "createDate.$date             0\n",
      "dateScanned.$date            0\n",
      "finishedDate.$date         551\n",
      "modifyDate.$date             0\n",
      "pointsAwardedDate.$date    582\n",
      "purchaseDate.$date         448\n",
      "dtype: int64\n"
     ]
    }
   ],
   "source": [
    "print(receipts_df.isnull().sum())"
   ]
  },
  {
   "cell_type": "markdown",
   "id": "9924f5bd",
   "metadata": {},
   "source": [
    "## Check for duplicate values"
   ]
  },
  {
   "cell_type": "code",
   "execution_count": 16,
   "id": "a296f30b",
   "metadata": {},
   "outputs": [
    {
     "name": "stdout",
     "output_type": "stream",
     "text": [
      "283\n",
      "0\n",
      "0\n"
     ]
    }
   ],
   "source": [
    "# Check for duplicates\n",
    "print(users_df.duplicated().sum())\n",
    "print(brands_df.duplicated().sum())\n",
    "print(receipts_df.duplicated().sum())"
   ]
  },
  {
   "cell_type": "markdown",
   "id": "71bb264c",
   "metadata": {},
   "source": [
    "## Checking data inconsistencies"
   ]
  },
  {
   "cell_type": "code",
   "execution_count": 17,
   "id": "dc4a031f",
   "metadata": {},
   "outputs": [
    {
     "name": "stdout",
     "output_type": "stream",
     "text": [
      "No inconsistent date formats found in users\n",
      "No inconsistent date formats found in receipts\n"
     ]
    }
   ],
   "source": [
    "# Check if there are any inconsistent date formats\n",
    "users_df['createdDate.$date'] = pd.to_datetime(users_df['createdDate.$date'], errors='coerce')\n",
    "receipts_df['dateScanned.$date'] = pd.to_datetime(receipts_df['dateScanned.$date'], errors='coerce')\n",
    "\n",
    "# Check for rows where date conversion failed\n",
    "invalid_users_dates = users_df[users_df['createdDate.$date'].isna()]\n",
    "invalid_receipts_dates = receipts_df[receipts_df['dateScanned.$date'].isna()]\n",
    "\n",
    "# Print results\n",
    "if invalid_users_dates.empty:\n",
    "    print(\"No inconsistent date formats found in users\")\n",
    "else:\n",
    "    print(\"Inconsistent date formats found in users\")\n",
    "    print(invalid_users_dates)\n",
    "\n",
    "if invalid_receipts_dates.empty:\n",
    "    print(\"No inconsistent date formats found in receipts\")\n",
    "else:\n",
    "    print(\"Inconsistent date formats found in receipts\")\n",
    "    print(invalid_receipts_dates)"
   ]
  },
  {
   "cell_type": "code",
   "execution_count": 23,
   "id": "40e0703b",
   "metadata": {
    "scrolled": true
   },
   "outputs": [
    {
     "name": "stdout",
     "output_type": "stream",
     "text": [
      "No negative values found for totalSpent\n",
      "No negative values found for pointsEarned\n"
     ]
    }
   ],
   "source": [
    "# Check for negative or out-of-range data \n",
    "invalid_total_spent = receipts_df[pd.to_numeric(receipts_df['totalSpent'], errors='coerce') < 0]\n",
    "invalid_points_earned = receipts_df[pd.to_numeric(receipts_df['pointsEarned'], errors='coerce') < 0]\n",
    "\n",
    "if invalid_total_spent.empty:\n",
    "    print(\"No negative values found for totalSpent\")\n",
    "else:\n",
    "    print(\"Negative values found for totalSpent:\")\n",
    "    print(invalid_total_spent)\n",
    "\n",
    "if invalid_points_earned.empty:\n",
    "    print(\"No negative values found for pointsEarned\")\n",
    "else:\n",
    "    print(\"Negative values found for pointsEarned:\")\n",
    "    print(invalid_points_earned)"
   ]
  },
  {
   "cell_type": "markdown",
   "id": "2a40a276",
   "metadata": {},
   "source": [
    "## Checking integrity constraint such as foreign keys "
   ]
  },
  {
   "cell_type": "code",
   "execution_count": 19,
   "id": "997e86df",
   "metadata": {},
   "outputs": [
    {
     "name": "stdout",
     "output_type": "stream",
     "text": [
      "Missing foreign key relationships\n"
     ]
    }
   ],
   "source": [
    "# Check if all user_ids in receipts exist in the users table which ensures checking Unreferenced data\n",
    "invalid_user_ids = receipts_df[~receipts_df['userId'].isin(users_df['_id.$oid'])]\n",
    "\n",
    "# If invalid_user_ids is not empty, it indicates missing foreign key relationships\n",
    "if invalid_user_ids.empty:\n",
    "    print(\"No missing foreign key relationships\")\n",
    "else:\n",
    "    print(\"Missing foreign key relationships\")"
   ]
  },
  {
   "cell_type": "markdown",
   "id": "3d4f0b9d",
   "metadata": {},
   "source": [
    "## Checking appropriate categorical value distributions"
   ]
  },
  {
   "cell_type": "code",
   "execution_count": 20,
   "id": "e7185579",
   "metadata": {},
   "outputs": [
    {
     "name": "stdout",
     "output_type": "stream",
     "text": [
      "['FINISHED' 'REJECTED' 'FLAGGED' 'SUBMITTED' 'PENDING']\n"
     ]
    }
   ],
   "source": [
    "# Check for unique values in a categorical field which ensures checking inconsistent categorical values\n",
    "print(receipts_df['rewardsReceiptStatus'].unique())"
   ]
  },
  {
   "cell_type": "markdown",
   "id": "832401cf",
   "metadata": {},
   "source": [
    "## Checking Logical consistency"
   ]
  },
  {
   "cell_type": "code",
   "execution_count": 24,
   "id": "ae7dc271",
   "metadata": {},
   "outputs": [
    {
     "name": "stdout",
     "output_type": "stream",
     "text": [
      "No logical inconsistencies found\n"
     ]
    }
   ],
   "source": [
    "# Ensure logical consistency for date fields (create_date should be before finished_date)\n",
    "receipts_df['createDate.$date'] = pd.to_datetime(receipts_df['createDate.$date'], errors='coerce')\n",
    "receipts_df['finishedDate.$date'] = pd.to_datetime(receipts_df['finishedDate.$date'], errors='coerce')\n",
    "logical_inconsistencies = receipts_df[receipts_df['finishedDate.$date'] < receipts_df['createDate.$date']]\n",
    "\n",
    "if logical_inconsistencies.empty:\n",
    "    print(\"No logical inconsistencies found\")\n",
    "else:\n",
    "    print(\"Logical inconsistencies found\")"
   ]
  }
 ],
 "metadata": {
  "kernelspec": {
   "display_name": "Python 3 (ipykernel)",
   "language": "python",
   "name": "python3"
  },
  "language_info": {
   "codemirror_mode": {
    "name": "ipython",
    "version": 3
   },
   "file_extension": ".py",
   "mimetype": "text/x-python",
   "name": "python",
   "nbconvert_exporter": "python",
   "pygments_lexer": "ipython3",
   "version": "3.11.5"
  }
 },
 "nbformat": 4,
 "nbformat_minor": 5
}
